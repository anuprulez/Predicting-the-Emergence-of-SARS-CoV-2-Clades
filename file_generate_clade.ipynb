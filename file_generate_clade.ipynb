{
 "cells": [
  {
   "cell_type": "code",
   "execution_count": 1,
   "metadata": {},
   "outputs": [],
   "source": [
    "import numpy as np\n",
    "import os\n",
    "import scipy.stats as stats\n",
    "import scipy.io as io\n",
    "import random\n",
    "import itertools\n",
    "import glob\n",
    "import matplotlib.pyplot as plt\n",
    "from sklearn.linear_model import LogisticRegression\n",
    "from sklearn import metrics\n",
    "from sklearn import svm\n",
    "from sklearn.multiclass import OneVsRestClassifier\n",
    "from sklearn.model_selection import KFold\n",
    "from sklearn.metrics import accuracy_score, precision_score, recall_score, confusion_matrix\n",
    "from xgboost import XGBClassifier\n",
    "import random\n",
    "from sklearn import preprocessing\n",
    "from sklearn.ensemble import RandomForestClassifier\n",
    "from sklearn.feature_selection import SelectFromModel\n",
    "import pandas as pd"
   ]
  },
  {
   "cell_type": "code",
   "execution_count": 5,
   "metadata": {},
   "outputs": [],
   "source": [
    "def file_create(dat,df,main_file,folder):\n",
    "    IDs = df[df['Clade'] == dat]['gisaid_epi_isl']\n",
    "    ID_list = IDs.tolist()\n",
    "    #print(ID_list)\n",
    "    g = open(folder+'/'+dat+'.fasta','w')\n",
    "    flag = 0\n",
    "    for ID in ID_list:\n",
    "        flag = 0\n",
    "        f = open(main_file,'r')\n",
    "        for i, line in enumerate(f):\n",
    "                if line.startswith('>') and flag == 0:\n",
    "                    check_ID = line.split('|')[1]\n",
    "                    if check_ID == ID:\n",
    "                        flag = 1\n",
    "                elif line.startswith('>') and flag == 1:\n",
    "                    break\n",
    "                if flag == 1:\n",
    "                    g.write(line)\n",
    "        f.close()\n",
    "    g.close()\n",
    "    "
   ]
  },
  {
   "cell_type": "code",
   "execution_count": 10,
   "metadata": {
    "scrolled": true
   },
   "outputs": [],
   "source": [
    "folder = 'Clade_Analysis'\n",
    "fname = glob.glob(folder+'/next*.csv')\n",
    "print(fname)\n",
    "df = pd.read_csv(fname[0])\n",
    "status = ['20A','19A','20B','20C','19B']\n",
    "for stat in status:\n",
    "    print(stat) \n",
    "    main_file = 'xx.fasta' #downloaded sequence fasta file from GISAID for the sequences listed in nextstrain*.csv\n",
    "    file_create(stat,df,main_file,folder)"
   ]
  },
  {
   "cell_type": "code",
   "execution_count": null,
   "metadata": {},
   "outputs": [],
   "source": []
  }
 ],
 "metadata": {
  "kernelspec": {
   "display_name": "Python 3",
   "language": "python",
   "name": "python3"
  },
  "language_info": {
   "codemirror_mode": {
    "name": "ipython",
    "version": 3
   },
   "file_extension": ".py",
   "mimetype": "text/x-python",
   "name": "python",
   "nbconvert_exporter": "python",
   "pygments_lexer": "ipython3",
   "version": "3.7.5"
  }
 },
 "nbformat": 4,
 "nbformat_minor": 2
}
